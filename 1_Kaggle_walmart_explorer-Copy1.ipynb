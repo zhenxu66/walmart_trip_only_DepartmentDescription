{
 "cells": [
  {
   "cell_type": "code",
   "execution_count": 1,
   "metadata": {
    "collapsed": true
   },
   "outputs": [],
   "source": [
    "# Import pandas & numpy & regular expression\n",
    "import pandas as pd\n",
    "import numpy as np\n",
    "import re\n",
    "# Sklearn has a helper that makes it easy to do cross validation\n",
    "from sklearn.cross_validation import cross_val_score\n",
    "# Import the logistic regression class\n",
    "from sklearn.linear_model import LogisticRegression\n",
    "# Import the random forest model class\n",
    "from sklearn.ensemble import RandomForestClassifier\n",
    "# Import the gradient boosting classifier\n",
    "from sklearn.ensemble import GradientBoostingClassifier\n",
    "\n",
    "import seaborn as sns\n",
    "import matplotlib.pyplot as plt\n",
    "%matplotlib inline"
   ]
  },
  {
   "cell_type": "code",
   "execution_count": 2,
   "metadata": {
    "collapsed": true
   },
   "outputs": [],
   "source": [
    "train_df = pd.read_csv('data/train.csv', header=0)"
   ]
  },
  {
   "cell_type": "code",
   "execution_count": 4,
   "metadata": {
    "collapsed": false
   },
   "outputs": [
    {
     "data": {
      "text/html": [
       "<div>\n",
       "<table border=\"1\" class=\"dataframe\">\n",
       "  <thead>\n",
       "    <tr style=\"text-align: right;\">\n",
       "      <th></th>\n",
       "      <th>TripType</th>\n",
       "      <th>VisitNumber</th>\n",
       "      <th>Weekday</th>\n",
       "      <th>Upc</th>\n",
       "      <th>ScanCount</th>\n",
       "      <th>DepartmentDescription</th>\n",
       "      <th>FinelineNumber</th>\n",
       "    </tr>\n",
       "  </thead>\n",
       "  <tbody>\n",
       "    <tr>\n",
       "      <th>0</th>\n",
       "      <td>999</td>\n",
       "      <td>5</td>\n",
       "      <td>Friday</td>\n",
       "      <td>68113152929</td>\n",
       "      <td>-1</td>\n",
       "      <td>FINANCIAL SERVICES</td>\n",
       "      <td>1000</td>\n",
       "    </tr>\n",
       "    <tr>\n",
       "      <th>1</th>\n",
       "      <td>30</td>\n",
       "      <td>7</td>\n",
       "      <td>Friday</td>\n",
       "      <td>60538815980</td>\n",
       "      <td>1</td>\n",
       "      <td>SHOES</td>\n",
       "      <td>8931</td>\n",
       "    </tr>\n",
       "    <tr>\n",
       "      <th>2</th>\n",
       "      <td>30</td>\n",
       "      <td>7</td>\n",
       "      <td>Friday</td>\n",
       "      <td>7410811099</td>\n",
       "      <td>1</td>\n",
       "      <td>PERSONAL CARE</td>\n",
       "      <td>4504</td>\n",
       "    </tr>\n",
       "    <tr>\n",
       "      <th>3</th>\n",
       "      <td>26</td>\n",
       "      <td>8</td>\n",
       "      <td>Friday</td>\n",
       "      <td>2238403510</td>\n",
       "      <td>2</td>\n",
       "      <td>PAINT AND ACCESSORIES</td>\n",
       "      <td>3565</td>\n",
       "    </tr>\n",
       "    <tr>\n",
       "      <th>4</th>\n",
       "      <td>26</td>\n",
       "      <td>8</td>\n",
       "      <td>Friday</td>\n",
       "      <td>2006613744</td>\n",
       "      <td>2</td>\n",
       "      <td>PAINT AND ACCESSORIES</td>\n",
       "      <td>1017</td>\n",
       "    </tr>\n",
       "    <tr>\n",
       "      <th>5</th>\n",
       "      <td>26</td>\n",
       "      <td>8</td>\n",
       "      <td>Friday</td>\n",
       "      <td>2006618783</td>\n",
       "      <td>2</td>\n",
       "      <td>PAINT AND ACCESSORIES</td>\n",
       "      <td>1017</td>\n",
       "    </tr>\n",
       "    <tr>\n",
       "      <th>6</th>\n",
       "      <td>26</td>\n",
       "      <td>8</td>\n",
       "      <td>Friday</td>\n",
       "      <td>2006613743</td>\n",
       "      <td>1</td>\n",
       "      <td>PAINT AND ACCESSORIES</td>\n",
       "      <td>1017</td>\n",
       "    </tr>\n",
       "    <tr>\n",
       "      <th>7</th>\n",
       "      <td>26</td>\n",
       "      <td>8</td>\n",
       "      <td>Friday</td>\n",
       "      <td>7004802737</td>\n",
       "      <td>1</td>\n",
       "      <td>PAINT AND ACCESSORIES</td>\n",
       "      <td>2802</td>\n",
       "    </tr>\n",
       "    <tr>\n",
       "      <th>8</th>\n",
       "      <td>26</td>\n",
       "      <td>8</td>\n",
       "      <td>Friday</td>\n",
       "      <td>2238495318</td>\n",
       "      <td>1</td>\n",
       "      <td>PAINT AND ACCESSORIES</td>\n",
       "      <td>4501</td>\n",
       "    </tr>\n",
       "    <tr>\n",
       "      <th>9</th>\n",
       "      <td>26</td>\n",
       "      <td>8</td>\n",
       "      <td>Friday</td>\n",
       "      <td>2238400200</td>\n",
       "      <td>-1</td>\n",
       "      <td>PAINT AND ACCESSORIES</td>\n",
       "      <td>3565</td>\n",
       "    </tr>\n",
       "  </tbody>\n",
       "</table>\n",
       "</div>"
      ],
      "text/plain": [
       "   TripType  VisitNumber Weekday          Upc  ScanCount  \\\n",
       "0       999            5  Friday  68113152929         -1   \n",
       "1        30            7  Friday  60538815980          1   \n",
       "2        30            7  Friday   7410811099          1   \n",
       "3        26            8  Friday   2238403510          2   \n",
       "4        26            8  Friday   2006613744          2   \n",
       "5        26            8  Friday   2006618783          2   \n",
       "6        26            8  Friday   2006613743          1   \n",
       "7        26            8  Friday   7004802737          1   \n",
       "8        26            8  Friday   2238495318          1   \n",
       "9        26            8  Friday   2238400200         -1   \n",
       "\n",
       "   DepartmentDescription  FinelineNumber  \n",
       "0     FINANCIAL SERVICES            1000  \n",
       "1                  SHOES            8931  \n",
       "2          PERSONAL CARE            4504  \n",
       "3  PAINT AND ACCESSORIES            3565  \n",
       "4  PAINT AND ACCESSORIES            1017  \n",
       "5  PAINT AND ACCESSORIES            1017  \n",
       "6  PAINT AND ACCESSORIES            1017  \n",
       "7  PAINT AND ACCESSORIES            2802  \n",
       "8  PAINT AND ACCESSORIES            4501  \n",
       "9  PAINT AND ACCESSORIES            3565  "
      ]
     },
     "execution_count": 4,
     "metadata": {},
     "output_type": "execute_result"
    }
   ],
   "source": [
    "train_df[0:10]"
   ]
  },
  {
   "cell_type": "code",
   "execution_count": 5,
   "metadata": {
    "collapsed": false
   },
   "outputs": [
    {
     "name": "stdout",
     "output_type": "stream",
     "text": [
      "<class 'pandas.core.frame.DataFrame'>\n",
      "Int64Index: 647054 entries, 0 to 647053\n",
      "Data columns (total 7 columns):\n",
      "TripType                 647054 non-null int64\n",
      "VisitNumber              647054 non-null int64\n",
      "Weekday                  647054 non-null object\n",
      "Upc                      642925 non-null float64\n",
      "ScanCount                647054 non-null int64\n",
      "DepartmentDescription    645693 non-null object\n",
      "FinelineNumber           642925 non-null float64\n",
      "dtypes: float64(2), int64(3), object(2)\n",
      "memory usage: 39.5+ MB\n",
      "None\n"
     ]
    }
   ],
   "source": [
    "print(train_df.info())"
   ]
  },
  {
   "cell_type": "code",
   "execution_count": 13,
   "metadata": {
    "collapsed": false
   },
   "outputs": [
    {
     "name": "stdout",
     "output_type": "stream",
     "text": [
      "\n",
      " Totally there are 95674  VisitNumber\n",
      "\n",
      " Totally there are 38  TripType\n",
      "\n",
      " Totally there are 69  DepartmentDescription\n",
      "\n",
      " Totally there are 5196  FinelineNumber\n"
     ]
    }
   ],
   "source": [
    "def print_unique(df, list):\n",
    "    for column in list:\n",
    "        print(\"\\n Totally there are \" + str(len(df[column].unique())) + \"  \" +df[column].name)\n",
    "        \n",
    "print_unique(train_df,[\"VisitNumber\",\"TripType\", \"DepartmentDescription\", \"FinelineNumber\" ])"
   ]
  },
  {
   "cell_type": "code",
   "execution_count": 22,
   "metadata": {
    "collapsed": true
   },
   "outputs": [],
   "source": [
    "vistors = list(train_df.VisitNumber.unique())\n",
    "depts = list(train_df.DepartmentDescription.unique())\n",
    "types = list(train_df.TripType.unique())\n",
    "types.sort()"
   ]
  },
  {
   "cell_type": "code",
   "execution_count": 15,
   "metadata": {
    "collapsed": false
   },
   "outputs": [
    {
     "data": {
      "text/plain": [
       "<matplotlib.text.Text at 0xa565710>"
      ]
     },
     "execution_count": 15,
     "metadata": {},
     "output_type": "execute_result"
    },
    {
     "data": {
      "image/png": "[encoded data removed]",
      "text/plain": [
       "<matplotlib.figure.Figure at 0xa56cb00>"
      ]
     },
     "metadata": {},
     "output_type": "display_data"
    }
   ],
   "source": [
    "fig_scancount = sns.factorplot( y='ScanCount', data=train_df[  (train_df[\"ScanCount\"] < 3 ) & (train_df[\"ScanCount\"] >= -1 )], \\\n",
    "                     hue = 'Weekday' ,kind='count', size=5, linewidth=1)\n",
    "sns.plt.title('Scan Count over different weekday \\n' , size =20)"
   ]
  },
  {
   "cell_type": "code",
   "execution_count": 16,
   "metadata": {
    "collapsed": false
   },
   "outputs": [],
   "source": [
    "#fillna\n",
    "train_df.DepartmentDescription = train_df.DepartmentDescription.fillna('nan')"
   ]
  },
  {
   "cell_type": "markdown",
   "metadata": {},
   "source": [
    "## Start training"
   ]
  },
  {
   "cell_type": "code",
   "execution_count": 24,
   "metadata": {
    "collapsed": false
   },
   "outputs": [
    {
     "name": "stdout",
     "output_type": "stream",
     "text": [
      "(95674, 69)\n",
      "(95674, 38)\n",
      "(95674, 1)\n"
     ]
    }
   ],
   "source": [
    "dept_matrix_train = np.zeros((len(vistors),len(depts)))\n",
    "print(dept_matrix_train.shape)\n",
    "trip_type_train = np.zeros((len(vistors),len(types)))\n",
    "print(trip_type_train.shape)\n",
    "count_train = np.zeros((len(set(vistors)),1))\n",
    "print(count_train.shape)"
   ]
  },
  {
   "cell_type": "code",
   "execution_count": 25,
   "metadata": {
    "collapsed": false
   },
   "outputs": [
    {
     "data": {
      "text/plain": [
       "'print(depts)\\ntmp = train_df.DepartmentDescription[64000]\\nprint(tmp)\\nprint(depts.index(tmp))\\nlen(vistors)'"
      ]
     },
     "execution_count": 25,
     "metadata": {},
     "output_type": "execute_result"
    }
   ],
   "source": [
    "'''print(depts)\n",
    "tmp = train_df.DepartmentDescription[64000]\n",
    "print(tmp)\n",
    "print(depts.index(tmp))\n",
    "len(vistors)'''"
   ]
  },
  {
   "cell_type": "code",
   "execution_count": 26,
   "metadata": {
    "collapsed": false
   },
   "outputs": [],
   "source": [
    "i=0\n",
    "j=0\n",
    "dept_matrix_train[j,depts.index(train_df.DepartmentDescription[i])] = train_df.ScanCount[i]\n",
    "trip_type_train[j,types.index(train_df.TripType[i])] = 1\n",
    "count_train[j] = 1"
   ]
  },
  {
   "cell_type": "code",
   "execution_count": 27,
   "metadata": {
    "collapsed": false
   },
   "outputs": [
    {
     "data": {
      "text/plain": [
       "'for i in range(1,20):\\n    if (train_df.VisitNumber[i] != train_df.VisitNumber[i-1]):\\n        j = j + 1\\n        trip_type_train[j,types.index(train_df.TripType[i])] = 1\\n        count_train[j] = 1\\n    elif (train_df.TripType[i] != train_df.TripType[i-1]):\\n        print(\"ERROR! Different trip type assigned for same visit!\")\\n        count_train[j] += 1\\n    else:\\n        count_train[j] += 1\\n    dept_matrix_train[j,depts.index(train_df.DepartmentDescription[i])] += train_df.ScanCount[i]\\n    \\nprint(count_train[0:10])\\nprint(trip_type_train[0:10])\\nprint(\"\\n dept_matrix_train\")\\nprint(dept_matrix_train[0:10])'"
      ]
     },
     "execution_count": 27,
     "metadata": {},
     "output_type": "execute_result"
    }
   ],
   "source": [
    "'''for i in range(1,20):\n",
    "    if (train_df.VisitNumber[i] != train_df.VisitNumber[i-1]):\n",
    "        j = j + 1\n",
    "        trip_type_train[j,types.index(train_df.TripType[i])] = 1\n",
    "        count_train[j] = 1\n",
    "    elif (train_df.TripType[i] != train_df.TripType[i-1]):\n",
    "        print(\"ERROR! Different trip type assigned for same visit!\")\n",
    "        count_train[j] += 1\n",
    "    else:\n",
    "        count_train[j] += 1\n",
    "    dept_matrix_train[j,depts.index(train_df.DepartmentDescription[i])] += train_df.ScanCount[i]\n",
    "    \n",
    "print(count_train[0:10])\n",
    "print(trip_type_train[0:10])\n",
    "print(\"\\n dept_matrix_train\")\n",
    "print(dept_matrix_train[0:10])'''"
   ]
  },
  {
   "cell_type": "code",
   "execution_count": 28,
   "metadata": {
    "collapsed": false
   },
   "outputs": [],
   "source": [
    "for i in range(1,len(train_df)):\n",
    "    if (train_df.VisitNumber[i] != train_df.VisitNumber[i-1]):\n",
    "        j = j + 1\n",
    "        trip_type_train[j,types.index(train_df.TripType[i])] = 1\n",
    "        count_train[j] = 1\n",
    "    elif (train_df.TripType[i] != train_df.TripType[i-1]):\n",
    "        print(\"ERROR! Different trip type assigned for same visit!\")\n",
    "        count_train[j] += 1\n",
    "    else:\n",
    "        count_train[j] += 1\n",
    "    dept_matrix_train[j,depts.index(train_df.DepartmentDescription[i])] += train_df.ScanCount[i]"
   ]
  },
  {
   "cell_type": "code",
   "execution_count": 33,
   "metadata": {
    "collapsed": false
   },
   "outputs": [
    {
     "name": "stdout",
     "output_type": "stream",
     "text": [
      "Total transaction count: [ 647054.]\n"
     ]
    }
   ],
   "source": [
    "print('Total transaction count: ' + str(sum(count_train)))\n"
   ]
  },
  {
   "cell_type": "code",
   "execution_count": 34,
   "metadata": {
    "collapsed": false
   },
   "outputs": [],
   "source": [
    "alg = RandomForestClassifier(n_estimators=100, min_samples_split=8, min_samples_leaf=4, n_jobs=-1)"
   ]
  },
  {
   "cell_type": "code",
   "execution_count": 35,
   "metadata": {
    "collapsed": false
   },
   "outputs": [
    {
     "data": {
      "text/plain": [
       "RandomForestClassifier(bootstrap=True, class_weight=None, criterion='gini',\n",
       "            max_depth=None, max_features='auto', max_leaf_nodes=None,\n",
       "            min_samples_leaf=4, min_samples_split=8,\n",
       "            min_weight_fraction_leaf=0.0, n_estimators=100, n_jobs=-1,\n",
       "            oob_score=False, random_state=None, verbose=0,\n",
       "            warm_start=False)"
      ]
     },
     "execution_count": 35,
     "metadata": {},
     "output_type": "execute_result"
    }
   ],
   "source": [
    "alg.fit(dept_matrix_train, trip_type_train)"
   ]
  },
  {
   "cell_type": "markdown",
   "metadata": {},
   "source": [
    "## test date read in and transform"
   ]
  },
  {
   "cell_type": "code",
   "execution_count": 37,
   "metadata": {
    "collapsed": false
   },
   "outputs": [
    {
     "data": {
      "text/html": [
       "<div>\n",
       "<table border=\"1\" class=\"dataframe\">\n",
       "  <thead>\n",
       "    <tr style=\"text-align: right;\">\n",
       "      <th></th>\n",
       "      <th>VisitNumber</th>\n",
       "      <th>Weekday</th>\n",
       "      <th>Upc</th>\n",
       "      <th>ScanCount</th>\n",
       "      <th>DepartmentDescription</th>\n",
       "      <th>FinelineNumber</th>\n",
       "    </tr>\n",
       "  </thead>\n",
       "  <tbody>\n",
       "    <tr>\n",
       "      <th>0</th>\n",
       "      <td>1</td>\n",
       "      <td>Friday</td>\n",
       "      <td>72503389714</td>\n",
       "      <td>1</td>\n",
       "      <td>SHOES</td>\n",
       "      <td>3002</td>\n",
       "    </tr>\n",
       "    <tr>\n",
       "      <th>1</th>\n",
       "      <td>1</td>\n",
       "      <td>Friday</td>\n",
       "      <td>1707710732</td>\n",
       "      <td>1</td>\n",
       "      <td>DAIRY</td>\n",
       "      <td>1526</td>\n",
       "    </tr>\n",
       "    <tr>\n",
       "      <th>2</th>\n",
       "      <td>1</td>\n",
       "      <td>Friday</td>\n",
       "      <td>89470001026</td>\n",
       "      <td>1</td>\n",
       "      <td>DAIRY</td>\n",
       "      <td>1431</td>\n",
       "    </tr>\n",
       "    <tr>\n",
       "      <th>3</th>\n",
       "      <td>1</td>\n",
       "      <td>Friday</td>\n",
       "      <td>88491211470</td>\n",
       "      <td>1</td>\n",
       "      <td>GROCERY DRY GOODS</td>\n",
       "      <td>3555</td>\n",
       "    </tr>\n",
       "    <tr>\n",
       "      <th>4</th>\n",
       "      <td>2</td>\n",
       "      <td>Friday</td>\n",
       "      <td>2840015224</td>\n",
       "      <td>1</td>\n",
       "      <td>DSD GROCERY</td>\n",
       "      <td>4408</td>\n",
       "    </tr>\n",
       "  </tbody>\n",
       "</table>\n",
       "</div>"
      ],
      "text/plain": [
       "   VisitNumber Weekday          Upc  ScanCount DepartmentDescription  \\\n",
       "0            1  Friday  72503389714          1                 SHOES   \n",
       "1            1  Friday   1707710732          1                 DAIRY   \n",
       "2            1  Friday  89470001026          1                 DAIRY   \n",
       "3            1  Friday  88491211470          1     GROCERY DRY GOODS   \n",
       "4            2  Friday   2840015224          1           DSD GROCERY   \n",
       "\n",
       "   FinelineNumber  \n",
       "0            3002  \n",
       "1            1526  \n",
       "2            1431  \n",
       "3            3555  \n",
       "4            4408  "
      ]
     },
     "execution_count": 37,
     "metadata": {},
     "output_type": "execute_result"
    }
   ],
   "source": [
    "test_df = pd.read_csv('data/test.csv', header=0)\n",
    "test_df.head()"
   ]
  },
  {
   "cell_type": "code",
   "execution_count": 38,
   "metadata": {
    "collapsed": false
   },
   "outputs": [
    {
     "name": "stdout",
     "output_type": "stream",
     "text": [
      "<class 'pandas.core.frame.DataFrame'>\n",
      "Int64Index: 653646 entries, 0 to 653645\n",
      "Data columns (total 6 columns):\n",
      "VisitNumber              653646 non-null int64\n",
      "Weekday                  653646 non-null object\n",
      "Upc                      649660 non-null float64\n",
      "ScanCount                653646 non-null int64\n",
      "DepartmentDescription    652318 non-null object\n",
      "FinelineNumber           649660 non-null float64\n",
      "dtypes: float64(2), int64(2), object(2)\n",
      "memory usage: 34.9+ MB\n",
      "None\n"
     ]
    }
   ],
   "source": [
    "print(test_df.info())"
   ]
  },
  {
   "cell_type": "code",
   "execution_count": 39,
   "metadata": {
    "collapsed": true
   },
   "outputs": [],
   "source": [
    "test_df.DepartmentDescription = test_df.DepartmentDescription.fillna('nan')"
   ]
  },
  {
   "cell_type": "code",
   "execution_count": 41,
   "metadata": {
    "collapsed": false
   },
   "outputs": [],
   "source": [
    "dept_matrix_test = np.zeros((len(set(test_df.VisitNumber)),len(depts)))\n",
    "count_test = np.zeros((len(set(test_df.VisitNumber)),1))\n",
    "i=0\n",
    "j=0\n",
    "dept_matrix_test[j,depts.index(test_df.DepartmentDescription[i])] = test_df.ScanCount[i]\n",
    "count_test[j] = 1"
   ]
  },
  {
   "cell_type": "code",
   "execution_count": 42,
   "metadata": {
    "collapsed": true
   },
   "outputs": [],
   "source": [
    "for i in range(1,len(test_df)):\n",
    "    if (test_df.VisitNumber[i] != test_df.VisitNumber[i-1]):\n",
    "        j = j + 1\n",
    "        count_test[j] = 1\n",
    "    else:\n",
    "        count_test[j] += 1\n",
    "    dept_matrix_test[j,depts.index(test_df.DepartmentDescription[i])] += test_df.ScanCount[i]    "
   ]
  },
  {
   "cell_type": "code",
   "execution_count": 43,
   "metadata": {
    "collapsed": false
   },
   "outputs": [
    {
     "name": "stdout",
     "output_type": "stream",
     "text": [
      "Total transaction count: [ 653646.]\n"
     ]
    }
   ],
   "source": [
    "print('Total transaction count: ' + str(sum(count_test)))"
   ]
  },
  {
   "cell_type": "code",
   "execution_count": null,
   "metadata": {
    "collapsed": true
   },
   "outputs": [],
   "source": []
  }
 ],
 "metadata": {
  "kernelspec": {
   "display_name": "Python 3",
   "language": "python",
   "name": "python3"
  },
  "language_info": {
   "codemirror_mode": {
    "name": "ipython",
    "version": 3
   },
   "file_extension": ".py",
   "mimetype": "text/x-python",
   "name": "python",
   "nbconvert_exporter": "python",
   "pygments_lexer": "ipython3",
   "version": "3.4.3"
  }
 },
 "nbformat": 4,
 "nbformat_minor": 0
}
